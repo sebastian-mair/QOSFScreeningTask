{
 "cells": [
  {
   "cell_type": "markdown",
   "id": "46a5722b",
   "metadata": {},
   "source": [
    "# The QOSF-mentorship program screening task"
   ]
  },
  {
   "cell_type": "markdown",
   "id": "48eb1630",
   "metadata": {},
   "source": [
    "Author: Sebastian Mair, 23.02.2023"
   ]
  },
  {
   "cell_type": "markdown",
   "id": "6f8eb507",
   "metadata": {},
   "source": [
    "## Management Summary\n",
    "\n",
    "I selected the screening task to create a QSVM to classify the Iris dataset (4d feature-vectors, \n",
    "                                                                             characterizing three classes of flowers).\n",
    "I found that a straight forward amplitude encoding of the two largest principal components ($2.\\arctan{(PC_1/PC_2)}$) with a $U^\\dagger U$ fidelity measurement and a $(10 \\times 10)$ kernel yields the most satisfying results. The empirical classification performance of the QSVM, as well as the mathematical structure $|\\langle \\vec{x}_i | \\vec{x}_j \\rangle|^2$ are equivalent to a classical polynomial kernel of degree $d = 2$.\n",
    "Further, I evaluated popular kernels with classical equivalents [1](https://link.springer.com/chapter/10.1007/978-3-030-83098-4_6) (angle-encoding and \n",
    "amplitude encoding kernels), and two free-from parameterized quantum kernels (one of which had equally high accuracy as amplitude encoding, but higher circuit depth).\n",
    "This report is focusses on the classification of Versicolor/Virginica, since the remaining class Setosa is readily seperable from the other two (in trials I achieved $acc \\approx 1$). The featurespaces for Versicolor and Virginica have some overlap and the classes generally cannot be perfectly seperated.\n",
    "\n",
    "The final classifier has some unresolved error, that couldn't be fixed due to a close deadline. However, I tried hard, to present a thorough analysis of QSVMs and it's application on this particular dataset.\n",
    "\n",
    "Results overview:\n",
    "\n",
    "| Kernel | Accuracy (Versicolor/Virginica) | Training time | Inference time |\n",
    "| --- | --- | --- | --- |\n",
    "| Classical linear kernel (Benchmark) | **0.938** | - | - |\n",
    "| **Amplitude Encoding** | **0.911** | **0.329 s** | **2.677 s** |\n",
    "| Repeated Amplitude Encoding | 0.822 | 0.45 s | 3.855 s |\n",
    "| Angle Encoding | 0.888 | 0.451 s | 3.877 s<span> |\n",
    "| **One Qubit rotation-chain** | **0.877** | - | - |\n",
    "| ZZ-FeatureMap with additional RX rotations | 0.6 | - | - |\n",
    "| Best of my ability quantum kernel | 0.877 | - | - |"
   ]
  },
  {
   "cell_type": "markdown",
   "id": "e4d338f5",
   "metadata": {},
   "source": [
    "## The brief"
   ]
  },
  {
   "cell_type": "markdown",
   "id": "31aac852",
   "metadata": {},
   "source": [
    "We decided to select participants based on how they will manage to do some simple “screening\n",
    "tasks”\n",
    "These tasks have been designed to:\n",
    "- find out if you have the skills necessary to succeed in our program.\n",
    "- be doable with basic QC knowledge - nothing should be too hard for you to quickly learn.\n",
    "- allow you to learn some interesting concepts of QC.\n",
    "- give you some choices depending on your interests.\n",
    "What we mean by skills is not knowledge and expertise in QC. It’s the ability to code, learn new\n",
    "concepts and to meet deadlines.\n",
    "What are we looking for in these applications?\n",
    "- Coding skills – clear, readable, well-structured code\n",
    "- Communication – well-described results, easy to understand, tidy.\n",
    "- Reliability – submitted on time, all the points from the task description are met\n",
    "Research skills – asking good questions and answering them methodically\n",
    "Also, feel free to be creative – once you finish the basic version of the task, you can expand it.\n",
    "Bonus questions provide just some ideas on how to expand a given topic.\n",
    "Choose tasks based on your interests, don’t try to pick the easiest one.\n",
    "You need to do only 1 task. Feel free to do all of them, it might be a good learning opportunity,\n",
    "but it won’t affect admissions to the program :)"
   ]
  },
  {
   "cell_type": "markdown",
   "id": "7fcec5db",
   "metadata": {},
   "source": [
    "## Selected task"
   ]
  },
  {
   "cell_type": "markdown",
   "id": "ad2418df",
   "metadata": {},
   "source": [
    "Generate a Quantum Supported Vector Machine (QSVM) using the iris dataset and try\n",
    "to propose a kernel from a parametric quantum circuit to classify the three\n",
    "classes(setosa, versicolor, virginica) using the one-vs-all format, the kernel only works\n",
    "as binary classification. Identify the proposal with the lowest number of qubits and depth\n",
    "to obtain higher accuracy. You can use the UU † format or using the Swap-Test."
   ]
  },
  {
   "cell_type": "markdown",
   "id": "01434e1d",
   "metadata": {},
   "source": [
    "### Motivations for selecting this task\n",
    "* I briefly read about kernel-methods before, but never took the time to properly understand it, so this will be a good learning opportunity.\n",
    "* I found some good resources on the topic. In fact, I found so many materials, that it is a challenge to add something of value to the discussion."
   ]
  },
  {
   "cell_type": "markdown",
   "id": "2332537e",
   "metadata": {},
   "source": [
    "### Stuff learned along the way ...\n",
    "* https://pennylane.ai/qml/demos/tutorial_kernel_based_training.html covers the brief to a very large extend on the quantum side.\n",
    "* https://scikit-learn.org/stable/modules/svm.html#svm-classification covers the brief to a very large extend on the classical side."
   ]
  },
  {
   "cell_type": "markdown",
   "id": "c6f5f9aa",
   "metadata": {},
   "source": [
    "## The solution"
   ]
  },
  {
   "cell_type": "markdown",
   "id": "669f3eb6",
   "metadata": {},
   "source": [
    "In honor of your time, I put my solution to the front of the document, and follow it up with my deduction. I am explicitly short on words in this section, since I have been verbose in the details section."
   ]
  },
  {
   "cell_type": "markdown",
   "id": "d2594aa4",
   "metadata": {},
   "source": [
    "Imports ..."
   ]
  },
  {
   "cell_type": "code",
   "execution_count": 1,
   "id": "12c1e0f9",
   "metadata": {},
   "outputs": [],
   "source": [
    "import functools\n",
    "\n",
    "import matplotlib.pyplot as plt\n",
    "\n",
    "from sklearn import datasets\n",
    "from sklearn.decomposition import PCA\n",
    "from sklearn.svm import SVC\n",
    "\n",
    "import pennylane as qml\n",
    "from pennylane import numpy as np"
   ]
  },
  {
   "cell_type": "markdown",
   "id": "61431432",
   "metadata": {},
   "source": [
    "Data loader ..."
   ]
  },
  {
   "cell_type": "code",
   "execution_count": 2,
   "id": "85200e26",
   "metadata": {},
   "outputs": [],
   "source": [
    "def load_filtered_iris_data(classes:list=[0,1,2]):\n",
    "    \"\"\"Load the iris data, and filter for provided classes. \n",
    "    E.g. if you want to load data for the classes Versicolor and Virginica, you need to pass the list {1,2}.\n",
    "    \"\"\"\n",
    "    assert np.min(classes) >= 0, f\"Provided classes list contains illegal value {np.min(classes)}, allowed are only 0,1 and 2.\"\n",
    "    assert np.max(classes) < 3, f\"Provided classes list contains illegal value {np.max(classes)}, allowed are only 0,1 and 2.\"\n",
    "    \n",
    "    indices = list()\n",
    "    \n",
    "    for clss in classes:\n",
    "        indices += list(range(50*(clss), 50*(clss+1)))\n",
    "    \n",
    "    iris = datasets.load_iris()\n",
    "    X_filtered = iris.data[indices,:]\n",
    "    y_filtered = iris.target[indices]\n",
    "    \n",
    "    return X_filtered, y_filtered"
   ]
  },
  {
   "cell_type": "markdown",
   "id": "2ee212a4",
   "metadata": {},
   "source": [
    "Dataloading and Train/Test split (10/90) ..."
   ]
  },
  {
   "cell_type": "code",
   "execution_count": 3,
   "id": "0bd3d386",
   "metadata": {},
   "outputs": [],
   "source": [
    "from sklearn.model_selection import train_test_split\n",
    "\n",
    "X, y = load_filtered_iris_data()\n",
    "X_train, X_test, y_train, y_test = train_test_split(X, y, test_size=0.9, random_state=43210)"
   ]
  },
  {
   "cell_type": "markdown",
   "id": "28898e3a",
   "metadata": {},
   "source": [
    "Transformations, I found it useful to make a PCA, this way I could also reduce the number of needed qubits ..."
   ]
  },
  {
   "cell_type": "code",
   "execution_count": 4,
   "id": "030575ea",
   "metadata": {},
   "outputs": [],
   "source": [
    "# preparing the transformation\n",
    "X_all, _ = load_filtered_iris_data()\n",
    "pca1 = PCA(n_components=2).fit(X_all)\n",
    "\n",
    "# this second transformation might be unnecessary, but I conducted most of my experiments in this space, ...\n",
    "X_versicolor_and_virginica, _ = load_filtered_iris_data([1,2]) \n",
    "pca2 = PCA(n_components=2).fit(X_versicolor_and_virginica)"
   ]
  },
  {
   "cell_type": "markdown",
   "id": "252c7ee5",
   "metadata": {},
   "source": [
    "The quantum kernel and the SVC for the classification Setosa/not-Setosa ..."
   ]
  },
  {
   "cell_type": "code",
   "execution_count": 10,
   "id": "80e8a582",
   "metadata": {},
   "outputs": [
    {
     "name": "stdout",
     "output_type": "stream",
     "text": [
      "TP: 45, TN: 85, Acc: 0.9629629629629629\n"
     ]
    }
   ],
   "source": [
    "# prepare the training data\n",
    "X_train_setosa = pca1.transform(X_train)\n",
    "y_train_setosa = -np.ones_like(y_train)\n",
    "y_train_setosa[y_train == 0] = 1\n",
    "\n",
    "# prepare the kernel\n",
    "n_qubits = 1\n",
    "dev_kernel_setosa = qml.device(\"default.qubit\", wires=n_qubits)\n",
    "    \n",
    "projector = np.zeros((2, 2))\n",
    "projector[0, 0] = 1 # this is needed for the U_dag U scheme\n",
    "\n",
    "@qml.qnode(dev_kernel_setosa)\n",
    "def setosa_kernel(x1, x2):\n",
    "    \"\"\"The quantum kernel\"\"\"\n",
    "    angle_x1 = np.angle(x1[0]+x1[1]*1.j)\n",
    "    angle_x2 = np.angle(x2[0]+x2[1]*1.j)\n",
    "    qml.RY(angle_x1, 0)\n",
    "    qml.RY(-angle_x2, 0)\n",
    "    return qml.expval(qml.Hermitian(projector, wires=0))\n",
    "\n",
    "# create the classifier\n",
    "svm_setosa = SVC(kernel=lambda X1, X2: qml.kernels.kernel_matrix(X1, X2, setosa_kernel)).fit(X_train_setosa, y_train_setosa)\n",
    "\n",
    "# eval the classifier ...\n",
    "res = svm_setosa.predict(pca1.transform(X_test)) - 1\n",
    "\n",
    "true_positives = np.sum(res == y_test)\n",
    "true_negatives = np.sum(res[y_test != 0] != 0)\n",
    "\n",
    "print(f\"TP: {true_positives}, TN: {true_negatives}, Acc: {(true_positives + true_negatives)/len(y_test)}\")\n"
   ]
  },
  {
   "cell_type": "markdown",
   "id": "a063b9d5",
   "metadata": {},
   "source": [
    "The quantum kernel and the SVC for the classification Versicolor/Virginica ..."
   ]
  },
  {
   "cell_type": "code",
   "execution_count": 12,
   "id": "b2312827",
   "metadata": {},
   "outputs": [
    {
     "name": "stdout",
     "output_type": "stream",
     "text": [
      "Acc: 0.8666666666666667\n"
     ]
    }
   ],
   "source": [
    "# prepare the data\n",
    "# filter away the setosa records, since the should have been classified already at the second class. step.\n",
    "X_train_vv_tmp = X_train[y_train != 0] \n",
    "X_train_vv = pca2.transform(X_train_vv_tmp)\n",
    "\n",
    "y_train_vv_tmp = y_train[y_train != 0]\n",
    "y_train_vv = 2*(y_train_vv_tmp-1)-1\n",
    "\n",
    "# prepare the kernel\n",
    "dev_kernel_vv = qml.device(\"default.qubit\", wires=3)\n",
    "\n",
    "def layer1(x, param):\n",
    "    qml.RY(x[0], wires=0)\n",
    "    qml.RY(x[1], wires=1)\n",
    "    qml.CRX(param[0], [0, 1])\n",
    "    qml.CRX(param[1], [1, 2])\n",
    "    qml.CRX(param[2], [2, 0])\n",
    "\n",
    "@qml.qnode(dev_kernel_vv)\n",
    "def kernel_vv(x1, x2, params):\n",
    "    \"\"\"The quantum kernel\"\"\"\n",
    "    projector = np.zeros((2**3, 2**3))\n",
    "    projector[0, 0] = 1 # this is needed for the U_dag U scheme\n",
    "    \n",
    "    qml.Hadamard(2)\n",
    "\n",
    "    for param in params:\n",
    "        layer1(x1, param)\n",
    "\n",
    "    for param in params[::-1]:\n",
    "        qml.adjoint(layer1)(x2, param)\n",
    "\n",
    "    qml.Hadamard(2)\n",
    "\n",
    "    return qml.expval(qml.Hermitian(projector, wires=range(3)))\n",
    "\n",
    "\n",
    "# prepare the classifier\n",
    "\n",
    "# these params where inferred through an optimization scheme, details are further below.\n",
    "params = np.array([[2.27242576, 2.57781135, 0.21708345], [0.37055342, 0.82430572, 0.73117368]])\n",
    "\n",
    "part_kernel_vv = functools.partial(kernel_vv, params=params)    \n",
    "svm_vv = SVC(kernel=lambda X1, X2: qml.kernels.kernel_matrix(X1, X2, part_kernel_vv)).fit(X_train_vv, y_train_vv)\n",
    "\n",
    "# eval the classifier\n",
    "y_test_vv = y_test[y_test != 0]\n",
    "y_test_vv = 2*(y_test_vv - 1.5)\n",
    "X_test_vv = pca2.transform(X_test[y_test != 0])\n",
    "\n",
    "res = svm_vv.predict(X_test_vv)\n",
    "\n",
    "acc = np.sum(res == y_test_vv)/len(y_test_vv)\n",
    "\n",
    "print(f\"Acc: {acc}\")"
   ]
  },
  {
   "cell_type": "code",
   "execution_count": 14,
   "id": "dcea4693",
   "metadata": {},
   "outputs": [
    {
     "name": "stdout",
     "output_type": "stream",
     "text": [
      "0.4222222222222222\n"
     ]
    }
   ],
   "source": [
    "def get_iris_prediction(X):\n",
    "    \"\"\"Predict the iris class for the given feature vectors.\n",
    "    \n",
    "    Args:\n",
    "        X (np.array): (n times 4) feature vector.\n",
    "        \n",
    "    Returns:\n",
    "        np.array(string): the predicted class for the given datapoints.\n",
    "    \"\"\"\n",
    "    y_res = -np.ones(len(X))\n",
    "    \n",
    "    # first transform the data into the space spanned by the Principal components \n",
    "    # PC0 and PC1 for the entire iris dataset\n",
    "    X_transf1 = pca1.transform(X)\n",
    "    is_setosa = np.array(svm_setosa.predict(X_transf1))\n",
    "    \n",
    "    vv_indices = np.where(is_setosa == -1)[0]\n",
    "    X_transf2 = pca2.transform(X[vv_indices])\n",
    "    is_vericolor = svm_vv.predict(X_transf2)\n",
    "    vericolor_indices = vv_indices[is_vericolor == 1]\n",
    "    virginica_indices = vv_indices[is_vericolor == -1]\n",
    "    \n",
    "    y_res[is_setosa == 1] = 0\n",
    "    y_res[vericolor_indices] = 1\n",
    "    y_res[virginica_indices] = 2\n",
    "    \n",
    "    return y_res\n",
    "\n",
    "iris_pred = get_iris_prediction(X_test)\n",
    "print(np.sum(iris_pred == y_test)/len(y_test))"
   ]
  },
  {
   "cell_type": "markdown",
   "id": "efd9ff4b",
   "metadata": {},
   "source": [
    "There must be still some error, the individual predictors are much stronger, unfortunately, I am already\n",
    "close to the deadline...\n",
    "\n",
    "It follows a detailed description how I got to this point."
   ]
  },
  {
   "cell_type": "markdown",
   "id": "a6c730d6",
   "metadata": {},
   "source": [
    "## A short bit of theory"
   ]
  },
  {
   "cell_type": "markdown",
   "id": "9eaa1530",
   "metadata": {},
   "source": [
    "We are trying to classify datapoints, however, sometimes they are difficult to seperate in the original feature space, e.g. you cannot fit a plane that seperates the data well. To mitigate this, you can apply a feature-map to transform your data into a higher dimensional space, where data seperates more nicely. Theory says, that if seperability doesn't get better, it shouldn't get any worse either, and often-times it gets much better."
   ]
  },
  {
   "attachments": {
    "path165.png": {
     "image/png": "[encoded data removed]"
    }
   },
   "cell_type": "markdown",
   "id": "d2e4ccc2",
   "metadata": {},
   "source": [
    "![path165.png](attachment:path165.png)"
   ]
  },
  {
   "cell_type": "markdown",
   "id": "6e677116",
   "metadata": {},
   "source": [
    "To my knowledge, the choice of a feature map is basically a result of trial and error. \n",
    "There are several popular choices for feature maps, you can even use a quantum computer to map your data, \n",
    "to calculate functions that are very expensive on a classical computer. But, here comes the caveat, it isn't\n",
    "possible to directly observe the state of a quantum object. It is only possible to observe the projection of a quantum state onto an Hermitian observable,\n",
    "e.g. the Pauli-Z operator, so you would have to execute the mapping & measuring many times to approximate the state.\n",
    "\n",
    "In come kernel methods! The algorithm that creates the decision boundary for us, is the SVM. The SVM maximizes\n",
    "the distance of data-points of individual classes to the decision boundary, this is described by the so called\n",
    "hinge loss:\n",
    "\n",
    "$L = - \\sum_{i=0}^m \\alpha_i + \\frac{1}{2} \\sum_{i=0}^m \\sum_{j=0}^m \\alpha_i \\alpha_j f(\\vec{x}_i) f(\\vec{x}_j) \\phi(\\vec{x}_i) \\cdot \\phi(\\vec{x}_j)$\n",
    "\n",
    "Here the $\\alpha_i$ values describe the decision hyper-plane, $f(\\vec{x}_i)$ the class of the datapoint, and $\\phi(\\vec{x}_i)$ the feature map.\n",
    "This loss function does not require the mapped feature vectors directly, but only pair-wise inner products thereof (i.e. a distance\n",
    "measure between data-points). The expression in the double sum is the so called Gram-matrix.\n",
    "This we can efficiently calculate on a quantum computer, we only need to measure\n",
    "the fidelity of two encoded feature vectors, e.g. via SWAP-test or the $U^\\dagger U$ formalism.\n",
    "\n",
    "So the final classification is performed on a feature-space, that is spanned by the pair-wise similarity scores of the vectors selected for constructing the kernel and the to be classified data-point.\n",
    "\n",
    "Marvelous, let's do it."
   ]
  },
  {
   "cell_type": "markdown",
   "id": "ae8d9908",
   "metadata": {},
   "source": [
    "## Getting to know the dataset"
   ]
  },
  {
   "cell_type": "markdown",
   "id": "0b414314",
   "metadata": {},
   "source": [
    "First, I want to know, what the dataset looks like, to get a feel, for what needs to be done, to get a decent classification result.\n",
    "\n",
    "I read the Wikipedia article about it: https://en.wikipedia.org/wiki/Iris_flower_data_set\n",
    "\n",
    "My main take-aways:\n",
    "* The data comprises 150 records, three classes of flowers, 50 records for each class.\n",
    "* Each record contains 4 features, to describe a given flower.\n",
    "* To encode 4 features requires 2 qubits in amplitude encoding (omitting the norm), or 3 qubits in amplitude encoding (maintain norm information).\n",
    "* The visualizations show that the class \"setosa\" is easily distinguishable e.g. by pedal length and width, more difficult might be the two other classes \"versicolor\" and \"virginica\" https://en.wikipedia.org/wiki/Iris_flower_data_set#/media/File:Iris_dataset_scatterplot.svg\n",
    "** i.e. I should think of classifying \"setosa\"/\"not-setosa\" first, without kernels, and use the quantum kernel methods only on the second classifier \"versicolor\"/\"virginica\"\n",
    "\n",
    "I also found a visualization routine of the dataset in a matplotlib tutorial; convenient as a starter code: https://scikit-learn.org/stable/auto_examples/datasets/plot_iris_dataset.html"
   ]
  },
  {
   "cell_type": "code",
   "execution_count": 15,
   "id": "95a4f190",
   "metadata": {},
   "outputs": [],
   "source": [
    "# First some basic imports\n",
    "\n",
    "import matplotlib.pyplot as plt\n",
    "\n",
    "from sklearn import datasets\n",
    "from sklearn.decomposition import PCA\n",
    "\n",
    "import pennylane as qml\n",
    "from pennylane import numpy as np"
   ]
  },
  {
   "cell_type": "code",
   "execution_count": 16,
   "id": "199b2817",
   "metadata": {},
   "outputs": [
    {
     "data": {
      "image/png": "[encoded data removed]",
      "text/plain": [
       "<Figure size 800x600 with 1 Axes>"
      ]
     },
     "metadata": {},
     "output_type": "display_data"
    }
   ],
   "source": [
    "# Iris data to get to know the data\n",
    "iris = datasets.load_iris()\n",
    "X = iris.data[:, 2:]  # we only take the last two features, this selection is informed by plots I found on Wikipedia\n",
    "y = iris.target\n",
    "\n",
    "x_min, x_max = X[:, 0].min() - 0.5, X[:, 0].max() + 0.5\n",
    "y_min, y_max = X[:, 1].min() - 0.5, X[:, 1].max() + 0.5\n",
    "\n",
    "plt.figure(2, figsize=(8, 6))\n",
    "plt.clf()\n",
    "\n",
    "# Plot the training points\n",
    "plt.scatter(X[:, 0], X[:, 1], c=y, cmap=plt.cm.Set1, edgecolor=\"k\")\n",
    "plt.title(\"Iris data (red=setosa; yellow=versicolor; grey=virginica)\")\n",
    "plt.xlabel(\"Pedal length\")\n",
    "plt.ylabel(\"Pedal width\")\n",
    "\n",
    "plt.xlim(x_min, x_max)\n",
    "plt.ylim(y_min, y_max)\n",
    "plt.xticks(())\n",
    "plt.yticks(())\n",
    "plt.show()"
   ]
  },
  {
   "cell_type": "markdown",
   "id": "3f1f68e6",
   "metadata": {},
   "source": [
    "Adapted from a starter code:\n",
    "``\n",
    "Code source: Gaël Varoquaux\n",
    "Modified for documentation by Jaques Grobler\n",
    "License: BSD 3 clause\n",
    "``"
   ]
  },
  {
   "cell_type": "markdown",
   "id": "e3e90600",
   "metadata": {},
   "source": [
    "Next I want to check how the data looks after some basic preprocessing, as this might help me to \n",
    "train a stronger classifier, and use up viewer qubits along the way.\n",
    "The idea to apply a PCA was taken from [this amazing source, by Patrick Huembeli](https://github.com/PatrickHuembeli/QSVM-Introduction/blob/master/Quantum%20Support%20Vector%20Machines.ipynb)."
   ]
  },
  {
   "cell_type": "code",
   "execution_count": 18,
   "id": "7e89435b",
   "metadata": {
    "scrolled": false
   },
   "outputs": [
    {
     "data": {
      "image/png": "[encoded data removed]",
      "text/plain": [
       "<Figure size 600x600 with 1 Axes>"
      ]
     },
     "metadata": {},
     "output_type": "display_data"
    },
    {
     "data": {
      "image/png": "[encoded data removed]",
      "text/plain": [
       "<Figure size 600x600 with 1 Axes>"
      ]
     },
     "metadata": {},
     "output_type": "display_data"
    }
   ],
   "source": [
    "def load_filtered_iris_data(classes:list=[0,1,2]):\n",
    "    \"\"\"Load the iris data, and filter for provided classes. \n",
    "    E.g. if you want to load data for the classes Versicolor and Virginica, you need to pass the list {1,2}.\n",
    "    \"\"\"\n",
    "    assert np.min(classes) >= 0, f\"Provided classes list contains illegal value {np.min(classes)}, allowed are only 0,1 and 2.\"\n",
    "    assert np.max(classes) < 3, f\"Provided classes list contains illegal value {np.max(classes)}, allowed are only 0,1 and 2.\"\n",
    "    \n",
    "    indices = list()\n",
    "    \n",
    "    for clss in classes:\n",
    "        indices += list(range(50*(clss), 50*(clss+1)))\n",
    "    \n",
    "    iris = datasets.load_iris()\n",
    "    X_filtered = iris.data[indices,:]\n",
    "    y_filtered = iris.target[indices]\n",
    "    \n",
    "    return X_filtered, y_filtered\n",
    "    \n",
    "\n",
    "def get_embedding_ready_pcs(X_filtered, pc1:int=0, pc2:int=1, norm:bool=False):\n",
    "    \"\"\"\n",
    "    \"\"\"\n",
    "    assert pc1 >= 0 and pc1 < X_filtered.shape[1], f\"Requested pc1 {pc1} does not exisit, valid values must be larger than 0 and smaller than the size of a feature vector.\"\n",
    "    assert pc2 >= 0 and pc2 < X_filtered.shape[1], f\"Requested pc1 {pc2} does not exisit, valid values must be larger than 0 and smaller than the size of a feature vector.\"\n",
    "    \n",
    "    n_components=max(pc1, pc2)+1\n",
    "    \n",
    "    pca = PCA(n_components=n_components).fit(X_filtered)\n",
    "    X_reduced = pca.transform(X_filtered)[:, [pc1, pc2]]\n",
    "    \n",
    "    if norm:\n",
    "        X_norm = np.linalg.norm(X_reduced, axis=1)\n",
    "        X_norm2 = np.dstack((X_norm, X_norm))\n",
    "\n",
    "        X_encode = np.squeeze(X_reduced/X_norm2)\n",
    "    else:\n",
    "        X_encode = X_reduced\n",
    "    \n",
    "    return X_encode, pca\n",
    "\n",
    "def plot_versicolor_and_virginica_pc(pc1:int=0, pc2:int=1):\n",
    "    \"\"\"Plot the pricipal components of the two classes \"versicolor\" and \"virginica\" of the Iris dataset.\n",
    "    \n",
    "    pc1: \n",
    "    \"\"\"\n",
    "    assert pc1 >= 0 and pc1 < 4, f\"Requested pc1 {pc1} does not exisit, only values 0-3 are allowed.\"\n",
    "    assert pc2 >= 0 and pc2 < 4, f\"Requested pc2 {pc2} does not exisit, only values 0-3 are allowed.\"\n",
    "\n",
    "    X_filtered, y_filtered = load_filtered_iris_data([1,2])\n",
    "    X_encode, _ = get_embedding_ready_pcs(X_filtered, pc1, pc2, True)\n",
    "    \n",
    "    x_min, x_max = -1.3, 1.3 \n",
    "    y_min, y_max = -1.3, 1.3\n",
    "\n",
    "    plt.figure(1, figsize=(6, 6))\n",
    "    plt.clf()\n",
    "\n",
    "    # Plot the training points\n",
    "    plt.scatter(X_encode[:, 0], X_encode[:, 1], c=y_filtered, cmap=plt.cm.Set1, edgecolor=\"k\")\n",
    "    plt.title(\"Iris data (red=versicolor; grey=virginica)\")\n",
    "    plt.xlabel(f\"PC {pc1}\")\n",
    "    plt.ylabel(f\"PC {pc2}\")\n",
    "\n",
    "    plt.xlim(x_min, x_max)\n",
    "    plt.ylim(y_min, y_max)\n",
    "    plt.xticks(())\n",
    "    plt.yticks(())\n",
    "    plt.show()\n",
    "\n",
    "plot_versicolor_and_virginica_pc()\n",
    "plot_versicolor_and_virginica_pc(1,2)"
   ]
  },
  {
   "cell_type": "markdown",
   "id": "4caeea1e",
   "metadata": {},
   "source": [
    "Looks like we are going to be alright, seperating these two classes with just the main two principal components, the norm information is not so important.\n",
    "An interesting extension might be, the classification based on the second and third principal components, as data looks much harder to seperate along these dimensions."
   ]
  },
  {
   "cell_type": "markdown",
   "id": "e87c4740",
   "metadata": {},
   "source": [
    "## Loading the data"
   ]
  },
  {
   "cell_type": "markdown",
   "id": "c3bc6b70",
   "metadata": {},
   "source": [
    "I decided to go for the most reduced classification possible, and classify the iris-data purely on basis of the two largest principal components.\n",
    "Long inference times for some of the quantum models informed me to choose relatively small kernel of size $(10 \\times 10)$."
   ]
  },
  {
   "cell_type": "code",
   "execution_count": 19,
   "id": "93f0247a",
   "metadata": {},
   "outputs": [],
   "source": [
    "X_filtered, y = load_filtered_iris_data([1, 2])\n",
    "X, _ = get_embedding_ready_pcs(X_filtered, 0, 1, False)\n",
    "y = 2*(y-1)-1 # relabel the classes [1,2] => [-1,1]\n",
    "\n",
    "from sklearn.model_selection import train_test_split\n",
    "X_train, X_test, y_train, y_test = train_test_split(X, y, test_size=0.9, random_state=43210)"
   ]
  },
  {
   "cell_type": "markdown",
   "id": "f83b92de",
   "metadata": {},
   "source": [
    "## Classical benchmarking"
   ]
  },
  {
   "cell_type": "markdown",
   "id": "424ac289",
   "metadata": {},
   "source": [
    "It's better to do gain the cheaper insights upfront, plus the classical benchmark will inform me, if I'm in an acceptable range.<br>\n",
    "Here I created a really basic classical linear SVC routine, that returns the accuracy."
   ]
  },
  {
   "cell_type": "code",
   "execution_count": 20,
   "id": "7bbb1195",
   "metadata": {},
   "outputs": [],
   "source": [
    "from sklearn.svm import SVC\n",
    "from sklearn.metrics import accuracy_score\n",
    "from sklearn.model_selection import train_test_split\n",
    "\n",
    "def classical_SVC(X, y, test_size):\n",
    "    X_train, X_test, y_train, y_test = \\\n",
    "        train_test_split(X, y, test_size=0.9) # choose a small training set, to speed up training.\n",
    "\n",
    "    # create Support Vector Classifier\n",
    "    svc = SVC(kernel='precomputed')\n",
    "    kernel_train = np.dot(X_train, X_train.T)  # linear kernel\n",
    "    svc.fit(kernel_train, y_train)\n",
    "\n",
    "    # test the classifier performance\n",
    "    kernel_test = np.dot(X_test, X_train.T)\n",
    "    y_pred = svc.predict(kernel_test)\n",
    "    return accuracy_score(y_test, y_pred)"
   ]
  },
  {
   "cell_type": "markdown",
   "id": "2f01dee9",
   "metadata": {},
   "source": [
    "Now, with a very small training set, the predictor's performance can vary a lot, so I do some statistics..."
   ]
  },
  {
   "cell_type": "code",
   "execution_count": 21,
   "id": "169b3c22",
   "metadata": {},
   "outputs": [
    {
     "name": "stdout",
     "output_type": "stream",
     "text": [
      "Linear-kernel SVC on the 2nd and 3rd principal comonents w. a 10/90 split.\n",
      "Accuracy: 0.5211111111111111 +/- 0.06235105709599199\n",
      "Linear-kernel SVC on the first two principal comonents w. a 10/90 split.\n",
      "Accuracy: 0.8822222222222222 +/- 0.14691897489836087 \n",
      "\n"
     ]
    }
   ],
   "source": [
    "# load the data\n",
    "X_filtered, y = load_filtered_iris_data([1, 2])\n",
    "X, _ = get_embedding_ready_pcs(X_filtered, 1,2, False)\n",
    "y = 2*(y-1)-1 # relabel the classes [1,2] => [-1,1]\n",
    "\n",
    "accuracy_scores = []\n",
    "for i in range(10):\n",
    "    accuracy_scores += [classical_SVC(X, y, 0.9), ]\n",
    "\n",
    "print(\"Linear-kernel SVC on the 2nd and 3rd principal comonents w. a 10/90 split.\")\n",
    "print(f\"Accuracy: {np.mean(accuracy_scores)} +/- {np.std(accuracy_scores)}\")\n",
    "\n",
    "\n",
    "X, _ = get_embedding_ready_pcs(X_filtered, 0,1, True)\n",
    "\n",
    "accuracy_scores = []\n",
    "for i in range(10):\n",
    "    accuracy_scores += [classical_SVC(X, y, 0.9), ]\n",
    "\n",
    "print(\"Linear-kernel SVC on the first two principal comonents w. a 10/90 split.\")\n",
    "print(f\"Accuracy: {np.mean(accuracy_scores)} +/- {np.std(accuracy_scores)} \\n\")"
   ]
  },
  {
   "cell_type": "markdown",
   "id": "08839807",
   "metadata": {},
   "source": [
    "Alright, if we want to be en Par with the classical methods, ... <br>\n",
    "* If we use the <strong>1st and 2nd principal component</strong>, we must aim for an accuracy of at least <strong>0.90</strong>. <br>\n",
    "* If we use the <strong>2nd and 3rd principal component</strong> to classify the data, we can aim for a more relaxed accuracy of somewhere around <strong>0.55</strong>."
   ]
  },
  {
   "cell_type": "markdown",
   "id": "0c56fb1c",
   "metadata": {},
   "source": [
    "## Getting to know quantum kernels"
   ]
  },
  {
   "cell_type": "markdown",
   "id": "f2789423",
   "metadata": {},
   "source": [
    "As I am new to the topic of QSVMs and kernels, I wanted to implement some standard kernels from the literature [1](https://link.springer.com/chapter/10.1007/978-3-030-83098-4_6), to see how they perform, before going on to more crafty ones... <br>\n",
    "I also want to learn about the computational effort, therefore, I will be recording the training and inference times."
   ]
  },
  {
   "cell_type": "code",
   "execution_count": 22,
   "id": "5fe8f8e8",
   "metadata": {},
   "outputs": [],
   "source": [
    "import time"
   ]
  },
  {
   "cell_type": "markdown",
   "id": "a3be8052",
   "metadata": {},
   "source": [
    "Starting with the vanilla <strong>amplitude encoding kernel</strong>. From my data analysis, I am convinced, that this\n",
    "kernel suits my data very well and will perform fine.\n",
    "The kernel has a classical equivalent of $\\kappa(x, x^\\prime) = |\\mathbf{x^\\dagger}\\mathbf{x}^\\prime|^2$."
   ]
  },
  {
   "cell_type": "code",
   "execution_count": 23,
   "id": "e827cbf7",
   "metadata": {},
   "outputs": [],
   "source": [
    "def eval_Ampl_Encoding_QSVM(X_train, X_test, y_train, y_test):\n",
    "    n_qubits = 1\n",
    "    \n",
    "    dev_kernel = qml.device(\"default.qubit\", wires=n_qubits)\n",
    "    \n",
    "    projector = np.zeros((2**n_qubits, 2**n_qubits))\n",
    "    projector[0, 0] = 1 # this is needed for the U_dag U scheme\n",
    "\n",
    "    @qml.qnode(dev_kernel)\n",
    "    def kernel(x1, x2):\n",
    "        \"\"\"The quantum kernel\"\"\"\n",
    "        angle_x1 = np.angle(x1[0]+x1[1]*1.j)\n",
    "        angle_x2 = np.angle(x2[0]+x2[1]*1.j)\n",
    "        qml.RY(angle_x1, 0)\n",
    "        qml.RY(-angle_x2, 0)\n",
    "        return qml.expval(qml.Hermitian(projector, wires=0))\n",
    "\n",
    "    st = time.time()\n",
    "    svm = SVC(kernel=lambda X1, X2: qml.kernels.kernel_matrix(X1, X2, kernel)).fit(X_train, y_train)\n",
    "    \n",
    "    ett = time.time()\n",
    "    y_pred = svm.predict(X_test)\n",
    "\n",
    "    etp = time.time()\n",
    "    print(f\"Amplitude encoding QSVM Classifier trained in {ett - st} seconds.\")\n",
    "    print(f\"Amplitude encoding QSVM Classifier prediction done in  in {etp - ett} seconds.\")\n",
    "    \n",
    "    return np.sum((y_pred * y_test)==1)/len(y_test)"
   ]
  },
  {
   "cell_type": "markdown",
   "id": "a6168763",
   "metadata": {},
   "source": [
    "Continuing with the <strong>angle encoding kernel</strong>, that has the classical equivalent of \n",
    "$\\kappa(x, x^\\prime)=\\Pi^N_{k=1}| \\cos(x_k - x^\\prime_k)|^2$."
   ]
  },
  {
   "cell_type": "code",
   "execution_count": 24,
   "id": "f5b51f4e",
   "metadata": {},
   "outputs": [],
   "source": [
    "def eval_Angle_Encoding_QSVM(X_train, X_test, y_train, y_test):\n",
    "    n_qubits = len(X_train[0])\n",
    "    \n",
    "    dev_kernel = qml.device(\"default.qubit\", wires=n_qubits)\n",
    "    \n",
    "    projector = np.zeros((2**n_qubits, 2**n_qubits))\n",
    "    projector[0, 0] = 1 # this is needed for the U_dag U scheme\n",
    "\n",
    "    @qml.qnode(dev_kernel)\n",
    "    def kernel(x1, x2):\n",
    "        \"\"\"The quantum kernel.\"\"\"\n",
    "        qml.AngleEmbedding(x1, wires=range(n_qubits))\n",
    "        qml.adjoint(qml.AngleEmbedding)(x2, wires=range(n_qubits))\n",
    "        return qml.expval(qml.Hermitian(projector, wires=range(n_qubits)))\n",
    "    \n",
    "    st = time.time()\n",
    "    svm = SVC(kernel=lambda X1, X2: qml.kernels.kernel_matrix(X1, X2, kernel)).fit(X_train, y_train)\n",
    "    \n",
    "    ett = time.time()\n",
    "    y_pred = svm.predict(X_test)\n",
    "\n",
    "    etp = time.time()\n",
    "    print(f\"Angle encoding QSVM Classifier trained in {ett - st} seconds.\")\n",
    "    print(f\"Angle encoding QSVM Classifier prediction done in  in {etp - ett} seconds.\")\n",
    "    \n",
    "    return np.sum((y_pred * y_test)==1)/len(y_test)"
   ]
  },
  {
   "cell_type": "markdown",
   "id": "4400c85c",
   "metadata": {},
   "source": [
    "As the last classically inspired kernel, I checked the <strong>repeated amplitude encoding</strong> kernel. The classical equivalent is $\\kappa(\\mathbf{x}, \\mathbf{x}^\\prime) = (|\\mathbf{x}^\\dagger\\mathbf{x}^\\prime|^2)^r$. "
   ]
  },
  {
   "cell_type": "code",
   "execution_count": 25,
   "id": "d6caff49",
   "metadata": {},
   "outputs": [],
   "source": [
    "def eval_n_Ampl_Encoding_QSVM(X_train, X_test, y_train, y_test, n):\n",
    "    n_qubits = 1\n",
    "    \n",
    "    dev_kernel = qml.device(\"default.qubit\", wires=n_qubits)\n",
    "    \n",
    "    projector = np.zeros((2**n_qubits, 2**n_qubits))\n",
    "    projector[0, 0] = 1 # this is needed for the U_dag U scheme\n",
    "\n",
    "    @qml.qnode(dev_kernel)\n",
    "    def kernel(x1, x2):\n",
    "        \"\"\"The quantum kernel\"\"\"\n",
    "        angle_x1 = np.angle(x1[0]+x1[1]*1.j)\n",
    "        angle_x2 = np.angle(x2[0]+x2[1]*1.j)\n",
    "        for i in range(n):\n",
    "            qml.RY(angle_x1, 0)\n",
    "        for i in range(n):\n",
    "            qml.RY(-angle_x2, 0)\n",
    "        return qml.expval(qml.Hermitian(projector, wires=0))\n",
    "    \n",
    "    st = time.time()\n",
    "    svm = SVC(kernel=lambda X1, X2: qml.kernels.kernel_matrix(X1, X2, kernel)).fit(X_train, y_train)\n",
    "    \n",
    "    ett = time.time()\n",
    "    y_pred = svm.predict(X_test)\n",
    "\n",
    "    etp = time.time()\n",
    "    print(f\"n-Amplitude encoding QSVM Classifier trained in {ett - st} seconds.\")\n",
    "    print(f\"n-Amplitude encoding QSVM Classifier prediction done in  in {etp - ett} seconds.\")\n",
    "    \n",
    "    return np.sum((y_pred * y_test)==1)/len(y_test)"
   ]
  },
  {
   "cell_type": "markdown",
   "id": "54c0372d",
   "metadata": {},
   "source": [
    "Now that all classifiers are in place, I execute them, to compare their performance."
   ]
  },
  {
   "cell_type": "code",
   "execution_count": 26,
   "id": "560cdd46",
   "metadata": {
    "scrolled": true
   },
   "outputs": [
    {
     "name": "stdout",
     "output_type": "stream",
     "text": [
      "Amplitude encoding QSVM Classifier trained in 0.3351099491119385 seconds.\n",
      "Amplitude encoding QSVM Classifier prediction done in  in 2.8204002380371094 seconds.\n",
      "acc. Ampl. Encoding: 0.9111111111111111\n",
      "n-Amplitude encoding QSVM Classifier trained in 0.444591760635376 seconds.\n",
      "n-Amplitude encoding QSVM Classifier prediction done in  in 3.929128646850586 seconds.\n",
      "acc. n-Ampl. Encoding: 0.8222222222222222\n",
      "Angle encoding QSVM Classifier trained in 0.430187463760376 seconds.\n",
      "Angle encoding QSVM Classifier prediction done in  in 3.5839483737945557 seconds.\n",
      "acc. Angle Encoding: 0.8888888888888888\n"
     ]
    }
   ],
   "source": [
    "a1 = eval_Ampl_Encoding_QSVM(X_train, X_test, y_train, y_test)\n",
    "print(f\"acc. Ampl. Encoding: {a1}\")\n",
    "\n",
    "a2 = eval_n_Ampl_Encoding_QSVM(X_train, X_test, y_train, y_test, 3)\n",
    "print(f\"acc. n-Ampl. Encoding: {a2}\")\n",
    "\n",
    "a3 = eval_Angle_Encoding_QSVM(X_train, X_test, y_train, y_test)\n",
    "print(f\"acc. Angle Encoding: {a3}\")"
   ]
  },
  {
   "cell_type": "markdown",
   "id": "74bc90d4",
   "metadata": {},
   "source": [
    "The results so far:\n",
    "\n",
    "| Kernel | Accuracy | Training time | Inference time |\n",
    "| --- | --- | --- | --- |\n",
    "| Classical linear kernel | **0.938** | - | - |\n",
    "| Amplitude Encoding | **0.911** | **0.329 s** | **2.677 s** |\n",
    "| Repeated Amplitude Encoding | 0.822 | 0.45 s | 3.855 s |\n",
    "| Angle Encoding | 0.888 | 0.45 s | 3.889 s<span> |"
   ]
  },
  {
   "cell_type": "markdown",
   "id": "9db930dd",
   "metadata": {},
   "source": [
    "## Training a parametric quantum kernel\n",
    "\n",
    "Now that I have a firm grasp, of what quantum kernels look like, what to expect, etc. I do the next step and implement an algorithm to seperate states of different class in the feature space. [2](https://arxiv.org/abs/2001.03622)"
   ]
  },
  {
   "cell_type": "markdown",
   "id": "db4ec650",
   "metadata": {},
   "source": [
    "For this I first create a small routine to train a given kernel."
   ]
  },
  {
   "cell_type": "code",
   "execution_count": 27,
   "id": "74ef23b1",
   "metadata": {},
   "outputs": [],
   "source": [
    "import functools\n",
    "\n",
    "def train_and_eval_kernel(kernel, params, X_train, X_test, y_train, y_test):\n",
    "    \n",
    "    def cost_fn(params):\n",
    "        part_kernel = functools.partial(kernel, params=params)\n",
    "        kernel_mat = qml.kernels.square_kernel_matrix(X_train, part_kernel)\n",
    "        target = .5*(np.outer(y_train, y_train)+1)\n",
    "        return np.sum(np.abs(target-kernel_mat))/100\n",
    "    \n",
    "    opt = qml.AdamOptimizer(stepsize=0.1)\n",
    "    \n",
    "    # store the values of the cost function\n",
    "    energy = [cost_fn(params)]\n",
    "\n",
    "    # store the values of the circuit parameter\n",
    "    params_list = [params]\n",
    "\n",
    "    max_iterations = 70\n",
    "    conv_tol = 1e-4\n",
    "\n",
    "    for n in range(max_iterations):\n",
    "        params, prev_energy = opt.step_and_cost(cost_fn, params)\n",
    "\n",
    "        energy.append(cost_fn(params))\n",
    "        params_list.append(params)\n",
    "\n",
    "        conv = np.abs(energy[-1] - prev_energy)\n",
    "\n",
    "        if n % 5 == 0:\n",
    "            print(f\"Step = {n},  Cost = {energy[-1]:.8f}\")\n",
    "            print(params)\n",
    "\n",
    "        if conv <= conv_tol:\n",
    "            print(f\"Step = {n},  Cost = {energy[-1]:.8f}\")\n",
    "            print(params)\n",
    "            break\n",
    "    \n",
    "    part_kernel = functools.partial(kernel, params=params)\n",
    "    \n",
    "    svm = SVC(kernel=lambda X1, X2: qml.kernels.kernel_matrix(X1, X2, part_kernel)).fit(X_train, y_train)\n",
    "    print(\"SVM trained\")\n",
    "    \n",
    "    y_pred = svm.predict(X_test)\n",
    "    \n",
    "    return np.sum((y_pred * y_test)==1)/len(y_test)"
   ]
  },
  {
   "cell_type": "markdown",
   "id": "5f56947b",
   "metadata": {},
   "source": [
    "### Linear chain of rotations (1 qubit, depth: 3)"
   ]
  },
  {
   "cell_type": "markdown",
   "id": "905cacea",
   "metadata": {},
   "source": [
    "A simple kernel with one qubit, and a chain of $RX(x)$ $RY(\\theta_i)$ rotations for encoding and a basic $U^\\dagger U$ fidelity calculation. While this procedure is very modest, it should expand the feature space from an equator on the bloch sphere to a larger space on the bloch sphere.\n",
    "\n",
    "The final accuracy is identical with the vanilla amplitude encoding - so on the performance side, nothing was achieved by seperating the classes in the 1-qubit feature space."
   ]
  },
  {
   "cell_type": "code",
   "execution_count": 30,
   "id": "826b3403",
   "metadata": {},
   "outputs": [
    {
     "name": "stdout",
     "output_type": "stream",
     "text": [
      "Step = 0,  Cost = 0.48352936\n",
      "[0.8847613  0.61225454 0.7233781 ]\n",
      "Step = 5,  Cost = 0.19595601\n",
      "[1.37906847 0.63601972 1.21288055]\n",
      "Step = 10,  Cost = 0.12428151\n",
      "[1.69812604 0.19394618 1.46783691]\n",
      "Step = 15,  Cost = 0.11753210\n",
      "[ 1.69461356 -0.21268598  1.41237983]\n",
      "Step = 20,  Cost = 0.12516305\n",
      "[ 1.68874723 -0.25464224  1.41270112]\n",
      "Step = 25,  Cost = 0.10498185\n",
      "[ 1.70278129 -0.06370396  1.47192878]\n",
      "Step = 30,  Cost = 0.09684372\n",
      "[1.59962633 0.09025403 1.41448349]\n",
      "Step = 31,  Cost = 0.09692099\n",
      "[1.57329956 0.10725036 1.39413985]\n",
      "SVM trained\n"
     ]
    },
    {
     "data": {
      "text/plain": [
       "0.8777777777777778"
      ]
     },
     "execution_count": 30,
     "metadata": {},
     "output_type": "execute_result"
    }
   ],
   "source": [
    "import functools\n",
    "\n",
    "n_qubits = 1\n",
    "\n",
    "dev_kernel1 = qml.device(\"default.qubit\", wires=n_qubits)\n",
    "\n",
    "projector = np.zeros((2, 2))\n",
    "projector[0, 0] = 1 # this is needed for the U_dag U scheme\n",
    "\n",
    "def layer(angle, param, wire):\n",
    "    qml.RX(angle, wire)\n",
    "    qml.RY(param, wire)\n",
    "\n",
    "@qml.qnode(dev_kernel1)\n",
    "def kernel1(x1, x2, params):\n",
    "    \"\"\"The quantum kernel\"\"\"\n",
    "    angle_x1 = np.angle(x1[0]+x1[1]*1.j)\n",
    "    angle_x2 = np.angle(x2[0]+x2[1]*1.j)\n",
    "\n",
    "    for param in params:\n",
    "        layer(angle_x1, param, 0)\n",
    "\n",
    "    for param in params[::-1]:\n",
    "        layer(-angle_x2, param, 0)\n",
    "\n",
    "    return qml.expval(qml.Hermitian(projector, wires=0))\n",
    "\n",
    "params1 = np.random.rand(3)\n",
    "\n",
    "train_and_eval_kernel(kernel1, params1, X_train, X_test, y_train, y_test)"
   ]
  },
  {
   "cell_type": "markdown",
   "id": "15ce9eb4",
   "metadata": {},
   "source": [
    "### ZZ-Feature-Maps with additional RX rotations\n",
    "\n",
    "Based on https://qiskit.org/documentation/stubs/qiskit.circuit.library.ZZFeatureMap.html I implement a new kernel ansatz, but this is a shot into the dark, and the performance is very bad $acc \\approx 0.55$."
   ]
  },
  {
   "cell_type": "code",
   "execution_count": 33,
   "id": "bdaf43d1",
   "metadata": {
    "scrolled": true
   },
   "outputs": [
    {
     "name": "stdout",
     "output_type": "stream",
     "text": [
      "Step = 0,  Cost = 0.42660243\n",
      "[[0.43478695 0.91474485 1.06455052 0.22341779 0.80060933 0.10826983]\n",
      " [0.53611577 0.24540588 0.52570335 0.24771208 0.44434883 0.82472313]]\n",
      "Step = 5,  Cost = 0.33981119\n",
      "[[ 0.91646536  1.36332408  1.56080913  0.0421165   0.31684014 -0.08509093]\n",
      " [ 0.53611577  0.24540588  0.52570335  0.24771208  0.44434883  0.82472313]]\n",
      "Step = 10,  Cost = 0.32942431\n",
      "[[ 1.05376044  1.70161995  1.98058405  0.34187604 -0.00858672  0.19827743]\n",
      " [ 0.53611577  0.24540588  0.52570335  0.24771208  0.44434883  0.82472313]]\n",
      "Step = 15,  Cost = 0.31917797\n",
      "[[ 0.90244686  2.15357127  2.1512378   0.3228663  -0.24902593  0.17964381]\n",
      " [ 0.53611577  0.24540588  0.52570335  0.24771208  0.44434883  0.82472313]]\n",
      "Step = 20,  Cost = 0.31447453\n",
      "[[ 0.79429677  2.50119743  2.18139888  0.02036144 -0.33213176 -0.11864365]\n",
      " [ 0.53611577  0.24540588  0.52570335  0.24771208  0.44434883  0.82472313]]\n",
      "Step = 25,  Cost = 0.31521966\n",
      "[[ 0.75368876  2.46328798  2.25348963 -0.0504502  -0.29743671 -0.18660754]\n",
      " [ 0.53611577  0.24540588  0.52570335  0.24771208  0.44434883  0.82472313]]\n",
      "Step = 29,  Cost = 0.31124131\n",
      "[[ 0.76465725  2.2702274   2.32184668  0.06849876 -0.27787118 -0.06519053]\n",
      " [ 0.53611577  0.24540588  0.52570335  0.24771208  0.44434883  0.82472313]]\n",
      "SVM trained\n"
     ]
    },
    {
     "data": {
      "text/plain": [
       "0.5333333333333333"
      ]
     },
     "execution_count": 33,
     "metadata": {},
     "output_type": "execute_result"
    }
   ],
   "source": [
    "n_qubits = 2\n",
    "\n",
    "dev_kernel2 = qml.device(\"default.qubit\", wires=n_qubits)\n",
    "\n",
    "projector = np.zeros((2**n_qubits, 2**n_qubits))\n",
    "projector[0, 0] = 1 # this is needed for the U_dag U scheme\n",
    "\n",
    "def layer(x0, x1, params):\n",
    "    qml.Hadamard(0)\n",
    "    qml.Hadamard(1)\n",
    "\n",
    "    qml.RZ(x0, 0)\n",
    "    qml.RZ(x1, 1)\n",
    "    qml.CNOT([0, 1])\n",
    "    a = 2.*(np.pi - x0)*(np.pi - x1)\n",
    "    qml.RZ(a, 1)\n",
    "    qml.CNOT([0, 1])\n",
    "\n",
    "    qml.Rot(params[0], params[1], params[2], 0)\n",
    "    qml.Rot(params[3], params[4], params[5], 1)\n",
    "\n",
    "@qml.qnode(dev_kernel2)\n",
    "def kernel2(x1, x2, params):\n",
    "    \"\"\"The quantum kernel\"\"\"\n",
    "    xa = x1 * np.pi\n",
    "    xb = x2 * np.pi\n",
    "\n",
    "    for param in params:\n",
    "        layer(xa[0], xa[1], param)\n",
    "\n",
    "    for param in params[::-1]:\n",
    "        qml.adjoint(layer)(xb[0], xb[1], param)\n",
    "\n",
    "    return qml.expval(qml.Hermitian(projector, wires=[0,1]))\n",
    "        \n",
    "params2 = np.random.rand(2, 6)\n",
    "\n",
    "train_and_eval_kernel(kernel2, params2, X_train, X_test, y_train, y_test)"
   ]
  },
  {
   "cell_type": "markdown",
   "id": "602ef373",
   "metadata": {},
   "source": [
    "Well, yes, this kernel is an utter failure."
   ]
  },
  {
   "cell_type": "markdown",
   "id": "b2b1176f",
   "metadata": {},
   "source": [
    "### A kernel to the best of my knowledge"
   ]
  },
  {
   "cell_type": "markdown",
   "id": "9e8b227a",
   "metadata": {},
   "source": [
    "To the best of my knowledge, kernel building is a guessing game, but I try to increase the embedding\n",
    "space here and use some features that distinct quantum computing from classical computing."
   ]
  },
  {
   "cell_type": "code",
   "execution_count": 34,
   "id": "424c0f76",
   "metadata": {},
   "outputs": [
    {
     "name": "stdout",
     "output_type": "stream",
     "text": [
      "Step = 0,  Cost = 0.26504657\n",
      "[[0.8163666  0.77401905 0.12188204]\n",
      " [0.84647466 0.59447037 0.12848361]]\n",
      "Step = 5,  Cost = 0.25624873\n",
      "[[1.31842157 1.27715307 0.08916467]\n",
      " [0.84647466 0.59447037 0.12848361]]\n",
      "Step = 10,  Cost = 0.24909188\n",
      "[[1.80991305 1.79072982 0.15048844]\n",
      " [0.84647466 0.59447037 0.12848361]]\n",
      "Step = 14,  Cost = 0.24745103\n",
      "[[2.1292798  2.20591146 0.09114126]\n",
      " [0.84647466 0.59447037 0.12848361]]\n",
      "SVM trained\n"
     ]
    },
    {
     "data": {
      "text/plain": [
       "0.8777777777777778"
      ]
     },
     "execution_count": 34,
     "metadata": {},
     "output_type": "execute_result"
    }
   ],
   "source": [
    "dev_kernel3 = qml.device(\"default.qubit\", wires=3)\n",
    "\n",
    "def layer1(x, param):\n",
    "    qml.RY(x[0], wires=0)\n",
    "    qml.RY(x[1], wires=1)\n",
    "    qml.CRX(param[0], [0, 1])\n",
    "    qml.CRX(param[1], [1, 2])\n",
    "    qml.CRX(param[2], [2, 0])\n",
    "\n",
    "@qml.qnode(dev_kernel3)\n",
    "def kernel3(x1, x2, params):\n",
    "    \"\"\"The quantum kernel\"\"\"\n",
    "    projector = np.zeros((2**3, 2**3))\n",
    "    projector[0, 0] = 1 # this is needed for the U_dag U scheme\n",
    "    \n",
    "    qml.Hadamard(2)\n",
    "\n",
    "    for param in params:\n",
    "        layer1(x1, param)\n",
    "\n",
    "    for param in params[::-1]:\n",
    "        qml.adjoint(layer1)(x2, param)\n",
    "\n",
    "    qml.Hadamard(2)\n",
    "\n",
    "    return qml.expval(qml.Hermitian(projector, wires=range(3)))\n",
    "\n",
    "params3 = np.random.rand(2, 3)\n",
    "\n",
    "train_and_eval_kernel(kernel3, params3, X_train, X_test, y_train, y_test)"
   ]
  },
  {
   "cell_type": "markdown",
   "id": "465f56ff",
   "metadata": {},
   "source": [
    "# Useful Links\n",
    "\n",
    "* https://github.com/KetpuntoG/Notebooks-del-canal/blob/master/QSVM.ipynb\n",
    "* https://qiskit.org/documentation/stubs/qiskit.circuit.library.ZZFeatureMap.html\n",
    "* https://github.com/PatrickHuembeli/QSVM-Introduction/blob/master/Quantum%20Support%20Vector%20Machines.ipynb - take the theory\n",
    "* https://arxiv.org/pdf/1804.11326.pdf\n",
    "* https://qiskit.org/documentation/stable/0.24/tutorials/machine_learning/01_qsvm_classification.html\n",
    "* https://docs.pennylane.ai/en/stable/code/api/pennylane.kernels.square_kernel_matrix.html\n",
    "* https://pennylane.ai/qml/demos/tutorial_kernels_module.html\n",
    "* https://pennylane.ai/qml/demos/tutorial_kernel_based_training.html - how to do it, and why it is more efficient than training a VQE (viewer runs, because we do not need the gradients)"
   ]
  }
 ],
 "metadata": {
  "kernelspec": {
   "display_name": "venv",
   "language": "python",
   "name": "venv"
  },
  "language_info": {
   "codemirror_mode": {
    "name": "ipython",
    "version": 3
   },
   "file_extension": ".py",
   "mimetype": "text/x-python",
   "name": "python",
   "nbconvert_exporter": "python",
   "pygments_lexer": "ipython3",
   "version": "3.8.10"
  }
 },
 "nbformat": 4,
 "nbformat_minor": 5
}
